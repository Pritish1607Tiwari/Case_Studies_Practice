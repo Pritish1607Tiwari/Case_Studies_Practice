{
 "cells": [
  {
   "cell_type": "code",
   "execution_count": 1,
   "id": "6bb4a7e9",
   "metadata": {},
   "outputs": [],
   "source": [
    "import numpy as np\n",
    "import pandas as pd\n",
    "import matplotlib.pyplot as plt\n",
    "import datetime as dt\n"
   ]
  },
  {
   "cell_type": "code",
   "execution_count": 2,
   "id": "afaa9589",
   "metadata": {},
   "outputs": [],
   "source": [
    "customer=pd.read_csv(\"CUSTOMERS.CSV\")\n",
    "geo_location=pd.read_csv(\"GEO_LOCATION.csv\")\n",
    "order_items = pd.read_csv(\"ORDER_ITEMS.csv\")\n",
    "order_payment=pd.read_csv(\"ORDER_PAYMENTS.csv\")\n",
    "order_review=pd.read_csv(\"ORDER_REVIEW_RATINGS.csv\")\n",
    "orders=pd.read_csv(\"ORDERS.csv\")\n",
    "products=pd.read_csv(\"PRODUCTS.csv\")\n",
    "sellers=pd.read_csv(\"SELLERS.csv\")"
   ]
  },
  {
   "cell_type": "code",
   "execution_count": 3,
   "id": "544ebe2c",
   "metadata": {},
   "outputs": [
    {
     "name": "stdout",
     "output_type": "stream",
     "text": [
      "<class 'pandas.core.frame.DataFrame'>\n",
      "RangeIndex: 99441 entries, 0 to 99440\n",
      "Data columns (total 5 columns):\n",
      " #   Column              Non-Null Count  Dtype \n",
      "---  ------              --------------  ----- \n",
      " 0   customer_id         99441 non-null  object\n",
      " 1   customer_unique_id  99441 non-null  object\n",
      " 2   zip_code            99441 non-null  int64 \n",
      " 3   customer_city       99441 non-null  object\n",
      " 4   customer_state      99441 non-null  object\n",
      "dtypes: int64(1), object(4)\n",
      "memory usage: 3.8+ MB\n"
     ]
    }
   ],
   "source": [
    "customer.rename(columns={\"customer_zip_code_prefix\": \"zip_code\"},inplace=True)\n",
    "customer.info()\n"
   ]
  },
  {
   "cell_type": "code",
   "execution_count": 4,
   "id": "f7a25bbc",
   "metadata": {},
   "outputs": [
    {
     "name": "stdout",
     "output_type": "stream",
     "text": [
      "<class 'pandas.core.frame.DataFrame'>\n",
      "RangeIndex: 19015 entries, 0 to 19014\n",
      "Data columns (total 5 columns):\n",
      " #   Column                       Non-Null Count  Dtype  \n",
      "---  ------                       --------------  -----  \n",
      " 0   geolocation_zip_code_prefix  19015 non-null  int64  \n",
      " 1   geolocation_lat              19015 non-null  float64\n",
      " 2   geolocation_lng              19015 non-null  float64\n",
      " 3   geolocation_city             19015 non-null  object \n",
      " 4   geolocation_state            19015 non-null  object \n",
      "dtypes: float64(2), int64(1), object(2)\n",
      "memory usage: 742.9+ KB\n"
     ]
    }
   ],
   "source": [
    "geo_location.info()"
   ]
  },
  {
   "cell_type": "code",
   "execution_count": 5,
   "id": "36f8e538",
   "metadata": {},
   "outputs": [],
   "source": [
    "geo_location.rename(columns={\"geolocation_zip_code_prefix\":\"zip_code\"},inplace=True)\n"
   ]
  },
  {
   "cell_type": "code",
   "execution_count": 6,
   "id": "280bded7",
   "metadata": {},
   "outputs": [],
   "source": [
    "df=pd.merge(left=customer,right=geo_location,on=\"zip_code\",how=\"inner\")"
   ]
  },
  {
   "cell_type": "code",
   "execution_count": 7,
   "id": "94aebbc2",
   "metadata": {},
   "outputs": [
    {
     "name": "stdout",
     "output_type": "stream",
     "text": [
      "<class 'pandas.core.frame.DataFrame'>\n",
      "RangeIndex: 118315 entries, 0 to 118314\n",
      "Data columns (total 22 columns):\n",
      " #   Column                         Non-Null Count   Dtype  \n",
      "---  ------                         --------------   -----  \n",
      " 0   order_id                       118315 non-null  object \n",
      " 1   order_item_id                  118315 non-null  int64  \n",
      " 2   product_id                     118315 non-null  object \n",
      " 3   seller_id                      118315 non-null  object \n",
      " 4   shipping_limit_date            118315 non-null  object \n",
      " 5   price                          118315 non-null  float64\n",
      " 6   freight_value                  118315 non-null  float64\n",
      " 7   payment_sequential             118315 non-null  int64  \n",
      " 8   payment_type                   118315 non-null  object \n",
      " 9   payment_installments           118315 non-null  int64  \n",
      " 10  payment_value                  118315 non-null  float64\n",
      " 11  review_id                      118315 non-null  object \n",
      " 12  review_score                   118315 non-null  int64  \n",
      " 13  review_creation_date           118315 non-null  object \n",
      " 14  review_answer_timestamp        118315 non-null  object \n",
      " 15  customer_id                    118315 non-null  object \n",
      " 16  order_status                   118315 non-null  object \n",
      " 17  order_purchase_timestamp       118315 non-null  object \n",
      " 18  order_approved_at              118300 non-null  object \n",
      " 19  order_delivered_carrier_date   117061 non-null  object \n",
      " 20  order_delivered_customer_date  115727 non-null  object \n",
      " 21  order_estimated_delivery_date  118315 non-null  object \n",
      "dtypes: float64(3), int64(4), object(15)\n",
      "memory usage: 19.9+ MB\n"
     ]
    }
   ],
   "source": [
    "df1=pd.merge(left=order_items,right=order_payment,on=\"order_id\",how=\"inner\")\n",
    "df1=pd.merge(left=df1,right=order_review,on=\"order_id\",how=\"inner\")\n",
    "df1=pd.merge(left=df1,right=orders,on=\"order_id\",how=\"inner\")\n",
    "df1.info()"
   ]
  },
  {
   "cell_type": "code",
   "execution_count": 8,
   "id": "bbb7952f",
   "metadata": {},
   "outputs": [
    {
     "data": {
      "text/plain": [
       "order_id                            0\n",
       "order_item_id                       0\n",
       "product_id                          0\n",
       "seller_id                           0\n",
       "shipping_limit_date                 0\n",
       "price                               0\n",
       "freight_value                       0\n",
       "payment_sequential                  0\n",
       "payment_type                        0\n",
       "payment_installments                0\n",
       "payment_value                       0\n",
       "review_id                           0\n",
       "review_score                        0\n",
       "review_creation_date                0\n",
       "review_answer_timestamp             0\n",
       "customer_id                         0\n",
       "order_status                        0\n",
       "order_purchase_timestamp            0\n",
       "order_approved_at                  15\n",
       "order_delivered_carrier_date     1254\n",
       "order_delivered_customer_date    2588\n",
       "order_estimated_delivery_date       0\n",
       "dtype: int64"
      ]
     },
     "execution_count": 8,
     "metadata": {},
     "output_type": "execute_result"
    }
   ],
   "source": [
    "df1.isnull().sum()"
   ]
  },
  {
   "cell_type": "markdown",
   "id": "c96ee6ee",
   "metadata": {},
   "source": [
    "### null values\n",
    "order approved at = 15 \n",
    "order_delivered_carrier_date = 1254\n",
    "order_delivered_customer_date = 2588\n"
   ]
  },
  {
   "cell_type": "code",
   "execution_count": 9,
   "id": "fafed808",
   "metadata": {},
   "outputs": [
    {
     "data": {
      "text/plain": [
       "order_id                         0.000000\n",
       "order_item_id                    0.000000\n",
       "product_id                       0.000000\n",
       "seller_id                        0.000000\n",
       "shipping_limit_date              0.000000\n",
       "price                            0.000000\n",
       "freight_value                    0.000000\n",
       "payment_sequential               0.000000\n",
       "payment_type                     0.000000\n",
       "payment_installments             0.000000\n",
       "payment_value                    0.000000\n",
       "review_id                        0.000000\n",
       "review_score                     0.000000\n",
       "review_creation_date             0.000000\n",
       "review_answer_timestamp          0.000000\n",
       "customer_id                      0.000000\n",
       "order_status                     0.000000\n",
       "order_purchase_timestamp         0.000000\n",
       "order_approved_at                0.012678\n",
       "order_delivered_carrier_date     1.059883\n",
       "order_delivered_customer_date    2.187381\n",
       "order_estimated_delivery_date    0.000000\n",
       "dtype: float64"
      ]
     },
     "execution_count": 9,
     "metadata": {},
     "output_type": "execute_result"
    }
   ],
   "source": [
    "(df1.isnull().sum()*100)/len(df1)"
   ]
  },
  {
   "cell_type": "code",
   "execution_count": 16,
   "id": "87c04e45",
   "metadata": {},
   "outputs": [],
   "source": [
    "df1 = df1.dropna()"
   ]
  },
  {
   "cell_type": "code",
   "execution_count": 17,
   "id": "bb6284fb",
   "metadata": {},
   "outputs": [
    {
     "data": {
      "text/plain": [
       "order_id                         0\n",
       "order_item_id                    0\n",
       "product_id                       0\n",
       "seller_id                        0\n",
       "shipping_limit_date              0\n",
       "price                            0\n",
       "freight_value                    0\n",
       "payment_sequential               0\n",
       "payment_type                     0\n",
       "payment_installments             0\n",
       "payment_value                    0\n",
       "review_id                        0\n",
       "review_score                     0\n",
       "review_creation_date             0\n",
       "review_answer_timestamp          0\n",
       "customer_id                      0\n",
       "order_status                     0\n",
       "order_purchase_timestamp         0\n",
       "order_approved_at                0\n",
       "order_delivered_carrier_date     0\n",
       "order_delivered_customer_date    0\n",
       "order_estimated_delivery_date    0\n",
       "dtype: int64"
      ]
     },
     "execution_count": 17,
     "metadata": {},
     "output_type": "execute_result"
    }
   ],
   "source": [
    "df1.isnull().sum()"
   ]
  },
  {
   "cell_type": "code",
   "execution_count": 18,
   "id": "1b5d85b0",
   "metadata": {},
   "outputs": [
    {
     "data": {
      "text/plain": [
       "customer_id           0\n",
       "customer_unique_id    0\n",
       "zip_code              0\n",
       "customer_city         0\n",
       "customer_state        0\n",
       "geolocation_lat       0\n",
       "geolocation_lng       0\n",
       "geolocation_city      0\n",
       "geolocation_state     0\n",
       "dtype: int64"
      ]
     },
     "execution_count": 18,
     "metadata": {},
     "output_type": "execute_result"
    }
   ],
   "source": [
    "df.isnull().sum()"
   ]
  },
  {
   "cell_type": "code",
   "execution_count": null,
   "id": "f9edfc00",
   "metadata": {},
   "outputs": [],
   "source": []
  }
 ],
 "metadata": {
  "kernelspec": {
   "display_name": ".venv",
   "language": "python",
   "name": "python3"
  },
  "language_info": {
   "codemirror_mode": {
    "name": "ipython",
    "version": 3
   },
   "file_extension": ".py",
   "mimetype": "text/x-python",
   "name": "python",
   "nbconvert_exporter": "python",
   "pygments_lexer": "ipython3",
   "version": "3.13.2"
  }
 },
 "nbformat": 4,
 "nbformat_minor": 5
}
